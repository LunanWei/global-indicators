{
 "cells": [
  {
   "cell_type": "code",
   "execution_count": 1,
   "id": "c2d9ab21-ce18-492c-9fb3-52a0ed686472",
   "metadata": {
    "tags": []
   },
   "outputs": [
    {
     "name": "stderr",
     "output_type": "stream",
     "text": [
      "/env/lib/python3.10/site-packages/tqdm/auto.py:21: TqdmWarning: IProgress not found. Please update jupyter and ipywidgets. See https://ipywidgets.readthedocs.io/en/stable/user_install.html\n",
      "  from .autonotebook import tqdm as notebook_tqdm\n"
     ]
    }
   ],
   "source": [
    "from configure import configuration\n",
    "from analysis import analysis\n",
    "from generate import generate\n",
    "from compare import compare"
   ]
  },
  {
   "cell_type": "markdown",
   "id": "ee75ca25-71c8-408b-8315-3b0e360bc373",
   "metadata": {},
   "source": [
    "# Global Healthy and Sustainable City Indicators (GHSCI) analysis for Las Palmas de Gran Canaria, Spain\n",
    "\n",
    "This notebook contains an example of how the GHSCI tool can be used to run an analysis for a study region of interest, for example, a city or set of neighbourhoods."
   ]
  },
  {
   "cell_type": "code",
   "execution_count": 2,
   "id": "7f18ba0e-6daa-4533-8389-9e0413ef5a7b",
   "metadata": {
    "tags": []
   },
   "outputs": [],
   "source": [
    "codename = 'example_ES_Las_Palmas_2023'"
   ]
  },
  {
   "cell_type": "code",
   "execution_count": 3,
   "id": "39a675e0-57e7-467e-98fd-6a0eacbdd71a",
   "metadata": {
    "tags": []
   },
   "outputs": [
    {
     "name": "stdout",
     "output_type": "stream",
     "text": [
      "Creating project configuration files, if not already existing in the\n",
      "configuration folder...\n",
      "\t- config.yml exists.\n",
      "\t- datasets.yml exists.\n",
      "\t- indicators.yml exists.\n",
      "\t- osm_destination_definitions.csv exists.\n",
      "\t- osm_open_space.yml exists.\n",
      "\t- policies.yml exists.\n",
      "\t- _report_configuration.xlsx exists.\n",
      "\n",
      "Configuration file for the specified study region codename\n",
      "'example_ES_Las_Palmas_2023' already exists:\n",
      "configuration/regions/example_ES_Las_Palmas_2023.yml.\n",
      "\n",
      "Please open and edit this file in a text editor following the provided example\n",
      "directions in order to complete configuration for your study region.  A\n",
      "completed example study region configuration can be viewed in the file\n",
      "'configuration/regions/example_ES_Las_Palmas_2023.yml'.\n",
      "\n",
      "To view additional guidance on configuration, run this script again without a\n",
      "codename.\n",
      "\n",
      "Once configuration has been completed, to proceed to analysis for this city,\n",
      "enter:\n",
      "analysis example_ES_Las_Palmas_2023\n"
     ]
    }
   ],
   "source": [
    "configuration(codename)"
   ]
  },
  {
   "cell_type": "code",
   "execution_count": 4,
   "id": "a927c639-db87-45d0-b9c7-65da8393afa6",
   "metadata": {
    "tags": []
   },
   "outputs": [
    {
     "name": "stdout",
     "output_type": "stream",
     "text": [
      "\n",
      "Las Palmas de Gran Canaria (example_ES_Las_Palmas_2023)\n",
      "\n",
      "Output directory:\n",
      "  process/data/_study_region_outputs/example_ES_Las_Palmas_2023\n",
      "\n",
      "The copy of region and project parameters from a previous analysis dated\n",
      "2023-05-11 at 1019 saved in the output directory as\n",
      "_parameters_2023-05-11_1019.yml matches the current configuration parameters and\n",
      "will be retained.\n",
      "\n",
      "\n",
      "Analysis time zone: Australia/Melbourne (to set time zone for where you are,\n",
      "edit config.yml)\n",
      "\n",
      "Analysis start:\t2023-05-11_1818\n"
     ]
    },
    {
     "name": "stderr",
     "output_type": "stream",
     "text": [
      "Aggregate region summary analyses:  100%|██████████████████████████████| (13/13)"
     ]
    },
    {
     "name": "stdout",
     "output_type": "stream",
     "text": [
      "Analysis end:\t2023-05-11_1819 (approximately 0.6 minutes)\n",
      "\n",
      "To generate resources (data files, documentation, maps, figures, reports) using\n",
      "the processed results for this study region, enter:\n",
      "\n",
      "generate example_ES_Las_Palmas_2023\n",
      "\n",
      "The Postgis SQL database for this city example_es_las_palmas_2023 can also be\n",
      "accessed from QGIS or other applications by specifying the server as 'localhost'\n",
      "and port as '5433', with username 'postgres' and password 'ghscic'.The SQL\n",
      "database can also be explored on the command line by using the above password\n",
      "after entering,'psql -U postgres -h gateway.docker.internal -p 5433 -d\n",
      "\"example_es_las_palmas_2023\"'. When using psql, you can type '\\dt' to list\n",
      "database tables, '\\d <table_name>' to list table columns, and 'SELECT * FROM\n",
      "<table_name> LIMIT 10;' to view the first 10 rows of a table.  To exit psql,\n",
      "enter '\\q'.\n",
      "\n"
     ]
    },
    {
     "name": "stderr",
     "output_type": "stream",
     "text": [
      "\n"
     ]
    }
   ],
   "source": [
    "analysis(codename)"
   ]
  },
  {
   "cell_type": "code",
   "execution_count": 5,
   "id": "c6b61a1b-71f9-4649-8300-ac9b260d8457",
   "metadata": {
    "tags": []
   },
   "outputs": [
    {
     "name": "stdout",
     "output_type": "stream",
     "text": [
      "\n",
      "Las Palmas de Gran Canaria (example_ES_Las_Palmas_2023)\n",
      "\n",
      "Output directory:\n",
      "  process/data/_study_region_outputs/example_ES_Las_Palmas_2023\n",
      "\n",
      "Analysis parameter summary text file\n",
      "  _parameters.yml\n",
      "\n",
      "Analysis log text file\n",
      "  __Las Palmas de Gran Canaria__example_ES_Las_Palmas_2023_processing_log.txt\n",
      "\n",
      "Data files\n",
      "  example_ES_Las_Palmas_2023_1600m_buffer.gpkg\n",
      "    - example_ES_Las_Palmas_2023_region\n",
      "    - example_ES_Las_Palmas_2023_grid_100m\n",
      "    - example_ES_Las_Palmas_2023_sample_points\n",
      "    - aos_public_osm\n",
      "    - dest_type\n",
      "    - destinations\n",
      "    - clean_intersections_12m\n",
      "    - edges\n",
      "    - nodes\n",
      "    - pt_stops_headway\n",
      "example_ES_Las_Palmas_2023_region.csv\n",
      "example_ES_Las_Palmas_2023_grid_100m.csv\n",
      "\n",
      "Data dictionaries\n",
      "  output_data_dictionary.csv\n",
      "  output_data_dictionary.xlsx\n",
      "\n",
      "Metadata\n",
      "  example_ES_Las_Palmas_2023_metadata.yml\n",
      "  example_ES_Las_Palmas_2023_metadata.xml\n",
      "\n",
      "Figures and maps (English)\n",
      "  figures/access_profile_English.jpg\n",
      "  figures/all_cities_walkability_English.jpg\n",
      "  figures/pct_access_500m_pt_English.jpg\n",
      "  figures/pct_access_500m_public_open_space_large_score_English.jpg\n",
      "  figures/local_nh_population_density_English.jpg\n",
      "  figures/local_nh_intersection_density_English.jpg\n",
      "  figures/policy_presence_rating_English.jpg\n",
      "  figures/policy_checklist_rating_English.jpg\n",
      "\n",
      "Report (web PDF template; English)\n",
      "  _web reports/Las Palmas - Healthy and Sustainable City Indicators Report - GHSCIC 2022 - English (DRAFT).pdf\n",
      "\n",
      "Figures and maps (Spanish - Spain)\n",
      "  figures/access_profile_Spanish - Spain.jpg\n",
      "  figures/all_cities_walkability_Spanish - Spain.jpg\n",
      "  figures/pct_access_500m_pt_Spanish - Spain.jpg\n",
      "  figures/pct_access_500m_public_open_space_large_score_Spanish - Spain.jpg\n",
      "  figures/local_nh_population_density_Spanish - Spain.jpg\n",
      "  figures/local_nh_intersection_density_Spanish - Spain.jpg\n",
      "  figures/policy_presence_rating_Spanish - Spain.jpg\n",
      "  figures/policy_checklist_rating_Spanish - Spain.jpg\n",
      "\n",
      "Report (web PDF template; Spanish - Spain)\n",
      "  _web reports/Las Palmas de Gran Canaria - Informe de Indicadores de ciudades saludables y sostenibles - GHSCIC 2022 - Español de España (DRAFT).pdf\n",
      "\n",
      "Figures and maps (Chinese - Simplified)\n",
      "  figures/access_profile_Chinese - Simplified.jpg\n",
      "  figures/all_cities_walkability_Chinese - Simplified.jpg\n",
      "  figures/pct_access_500m_pt_Chinese - Simplified.jpg\n",
      "  figures/pct_access_500m_public_open_space_large_score_Chinese - Simplified.jpg\n",
      "  figures/local_nh_population_density_Chinese - Simplified.jpg\n",
      "  figures/local_nh_intersection_density_Chinese - Simplified.jpg\n",
      "  figures/policy_presence_rating_Chinese - Simplified.jpg\n",
      "  figures/policy_checklist_rating_Chinese - Simplified.jpg\n",
      "\n",
      "Report (web PDF template; Chinese - Simplified)\n",
      "  _web reports/大加那利岛拉斯帕尔马斯 - 健康与可持续城市指标报告 - GHSCIC 2022 - 简体中文 (DRAFT).pdf\n",
      "\n",
      "Analysis report (work in progress...)\n",
      "  figures/study_region_boundary.png; Already exists; Delete to re-generate.\n",
      "  figures/study_region_boundary_urban_shading.png; Already exists; Delete to re-generate.\n",
      "  figures/network_edges.png; Already exists; Delete to re-generate.\n",
      "  figures/population_grid.png; Already exists; Delete to re-generate.\n",
      "  figures/destination_count_Fresh_Food_Market.png; Already exists; Delete to re-generate.\n",
      "  figures/destination_count_Convenience.png; Already exists; Delete to re-generate.\n",
      "  figures/destination_count_Public_transport_stop_any_.png; Already exists; Delete to re-generate.\n",
      "  figures/destination_count_Restaurant.png; Already exists; Delete to re-generate.\n",
      "  figures/destination_count_Cafe.png; Already exists; Delete to re-generate.\n",
      "  figures/destination_count_Food_court.png; Already exists; Delete to re-generate.\n",
      "  figures/destination_count_Fast_food.png; Already exists; Delete to re-generate.\n",
      "  figures/destination_count_Pub.png; Already exists; Delete to re-generate.\n",
      "  figures/destination_count_Bar.png; Already exists; Delete to re-generate.\n",
      "  analysis_report_2023-05-11_1818.pdf\n",
      "\n",
      "\n",
      "It is important to take the time to familiarise yourself with the various\n",
      "outputs generated from the configuration and analysis of your region of interest\n",
      "to ensure they provide a fair and accurate representation given local knowledge.\n",
      "Any issues or limitations identified should be understood and can be iteratively\n",
      "addressed and/or acknowledged in documentation prior to dissemination.\n",
      "\n"
     ]
    }
   ],
   "source": [
    "generate(codename)"
   ]
  },
  {
   "cell_type": "code",
   "execution_count": 6,
   "id": "d57cd8e7-3abd-4ef9-990b-233925dbd758",
   "metadata": {
    "tags": []
   },
   "outputs": [
    {
     "name": "stdout",
     "output_type": "stream",
     "text": [
      "\n",
      "Las Palmas de Gran Canaria (example_ES_Las_Palmas_2023)\n",
      "\n",
      "Output directory:\n",
      "  process/data/_study_region_outputs/example_ES_Las_Palmas_2023\n",
      "\n",
      "                   example_ES_Las_Palmas_2023  gtfs_ES_Las_Palmas_2023\n",
      "pop_walkability                      0.650780                 0.650780\n",
      "local_walkability                   -0.806465                -0.806465\n",
      "\n",
      "Comparison saved as compare_example_ES_Las_Palmas_2023_gtfs_ES_Las_Palmas_2023_2023-05-11_1818.csv\n",
      "\n"
     ]
    }
   ],
   "source": [
    "compare(codename,'gtfs_ES_Las_Palmas_2023')"
   ]
  }
 ],
 "metadata": {
  "kernelspec": {
   "display_name": "Python 3 (ipykernel)",
   "language": "python",
   "name": "python3"
  },
  "language_info": {
   "codemirror_mode": {
    "name": "ipython",
    "version": 3
   },
   "file_extension": ".py",
   "mimetype": "text/x-python",
   "name": "python",
   "nbconvert_exporter": "python",
   "pygments_lexer": "ipython3",
   "version": "3.10.11"
  }
 },
 "nbformat": 4,
 "nbformat_minor": 5
}
