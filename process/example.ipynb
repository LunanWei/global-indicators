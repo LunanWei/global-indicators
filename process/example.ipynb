{
 "cells": [
  {
   "cell_type": "code",
   "execution_count": 1,
   "id": "c2d9ab21-ce18-492c-9fb3-52a0ed686472",
   "metadata": {
    "tags": []
   },
   "outputs": [],
   "source": [
    "# Modules used for basic analysis\n",
    "from configure import configuration\n",
    "from analysis import analysis\n",
    "from generate import generate\n",
    "from compare import compare\n",
    "\n",
    "# Modules used for more advanced analysis\n",
    "from subprocesses import ghsci\n",
    "from subprocesses._utils import plot_choropleth_map"
   ]
  },
  {
   "cell_type": "markdown",
   "id": "ee75ca25-71c8-408b-8315-3b0e360bc373",
   "metadata": {},
   "source": [
    "# Global Healthy and Sustainable City Indicators (GHSCI) analysis for Las Palmas de Gran Canaria, Spain\n",
    "\n",
    "This notebook contains an example of how the GHSCI tool can be used to run an analysis for a study region of interest, for example, a city or set of neighbourhoods."
   ]
  },
  {
   "cell_type": "code",
   "execution_count": 2,
   "id": "7f18ba0e-6daa-4533-8389-9e0413ef5a7b",
   "metadata": {
    "tags": []
   },
   "outputs": [],
   "source": [
    "codename = 'example_ES_Las_Palmas_2023'"
   ]
  },
  {
   "cell_type": "markdown",
   "id": "9c129046-5728-4ac9-8d14-f2ca14749d66",
   "metadata": {},
   "source": [
    "## Configuration\n",
    "\n",
    "A helper script has been provided for initialising new study region configuration files.  Two such files have been provided in the folder `process/configuration/regions`:\n",
    "\n",
    "1. `example_ES_Las_Palmas_2023.yml`\n",
    "  - This **example** defines the Spanish city of Las Palmas de Gran Canaria with a target time point of 2023\n",
    "  - The codename `example_ES_Las_Palmas_2023` describes the above using a recommended shorthand structure, starting with a two-letter country code\n",
    "    - For cities with shared names in different countries like Valencia this can differentiate between the two (i.e. ES_Valencia_2023 refers to the city in Spain, and VE_Valencia_2023 to the city Venezuela, and both using the same time point of 2023)\n",
    "  - You can use suffixes or prefixes as required to ensure your codenames clearly describe the study region configurations they represent\n",
    "2. `ES_Las_Palmas_2023_test_not_urbanx.yml`\n",
    "  - This study region configuration provides a **sensitivity analysis** for the use of a city administrative boundary without restricting to the intersection with an urban region using the Global Human Settlements Layer Urban Centres Database (ie. `ghsl_intersection = false` instead of `true`)\n",
    "  - We can use this later on in the workflow to compare the indicator results as a sensitivity analysis and evaluate the impact of this methodological decision\n",
    "\n",
    "Codenames chosen should be no more than 40 characters in total to avoid errors with too long file names when additional files are created using this name as part of the workflow."
   ]
  },
  {
   "cell_type": "code",
   "execution_count": 3,
   "id": "39a675e0-57e7-467e-98fd-6a0eacbdd71a",
   "metadata": {
    "tags": []
   },
   "outputs": [
    {
     "name": "stdout",
     "output_type": "stream",
     "text": [
      "\n",
      "Configuration file for the specified study region codename\n",
      "'example_ES_Las_Palmas_2023' already exists:\n",
      "configuration/regions/example_ES_Las_Palmas_2023.yml.\n",
      "\n",
      "Please open and edit this file in a text editor following the provided example\n",
      "directions in order to complete configuration for your study region.  A\n",
      "completed example study region configuration can be viewed in the file\n",
      "'configuration/regions/example_ES_Las_Palmas_2023.yml'.\n",
      "\n",
      "To view additional guidance on configuration, run this script again without a\n",
      "codename.\n",
      "\n",
      "Once configuration has been completed, to proceed to analysis for this city,\n",
      "enter:\n",
      "analysis example_ES_Las_Palmas_2023\n"
     ]
    }
   ],
   "source": [
    "configuration(codename)"
   ]
  },
  {
   "cell_type": "markdown",
   "id": "c5d42a0e-e0f8-490e-980f-f31624a3d28f",
   "metadata": {},
   "source": [
    "## Analysis\n",
    "\n",
    "The below function runs the following series of scripts located in the `subprocesses` folder for the specified study region codename:\n",
    "\n",
    "|**Subprocess step** | **Description** | \r\n",
    "|--------------------|-----------------|\r\n",
    "|_00_create_database.py | Create database | \r\n",
    "|_01_create_study_region.py | Create study region | \r\n",
    "|_02_create_osm_resources.py | Create OpenStreetMap resources | \r\n",
    "|_03_create_network_resources.py | Create pedestrian network | \r\n",
    "|_04_create_population_grid.py | Align population distribution | \r\n",
    "|_05_compile_destinations.py | Compile destinations | \r\n",
    "|_06_open_space_areas_setup.py | Identify public open space | \r\n",
    "|_07_locate_origins_destinations.py | Analyse local neighbourhoods | \r\n",
    "|_08_destination_summary.py | Summarise spatial distribution | \r\n",
    "|_09_urban_covariates.py | Collate urban covariates | \r\n",
    "|_10_gtfs_analysis.py | Analyse GTFS Feeds | \r\n",
    "|_11_neighbourhood_analysis.py | Analyse neighbourhoods | \r\n",
    "|_12_aggregation.py | Aggregate region summary analyses | y analyses',"
   ]
  },
  {
   "cell_type": "code",
   "execution_count": 4,
   "id": "a927c639-db87-45d0-b9c7-65da8393afa6",
   "metadata": {
    "tags": []
   },
   "outputs": [
    {
     "name": "stdout",
     "output_type": "stream",
     "text": [
      "\n",
      "Las Palmas de Gran Canaria (example_ES_Las_Palmas_2023)\n",
      "\n",
      "Output directory:\n",
      "  process/data/_study_region_outputs/example_ES_Las_Palmas_2023\n",
      "\n",
      "A dated copy of project and region parameters has been saved as\n",
      "process/data/_study_region_outputs/example_ES_Las_Palmas_2023/_parameters.yml.\n",
      "\n",
      "Analysis time zone: Australia/Melbourne (to set time zone for where you are,\n",
      "edit config.yml)\n",
      "\n",
      "Analysis start:\t2023-06-07_1726\n"
     ]
    },
    {
     "data": {
      "application/vnd.jupyter.widget-view+json": {
       "model_id": "94d5070ff75643ceb5839d4eb3d42439",
       "version_major": 2,
       "version_minor": 0
      },
      "text/plain": [
       "                                      0%|                              | (0/13)"
      ]
     },
     "metadata": {},
     "output_type": "display_data"
    },
    {
     "name": "stdout",
     "output_type": "stream",
     "text": [
      "Analysis end:\t2023-06-07_1729 (approximately 2.7 minutes)\n",
      "\n",
      "To generate resources (data files, documentation, maps, figures, reports) using\n",
      "the processed results for this study region, enter:\n",
      "\n",
      "generate example_ES_Las_Palmas_2023\n",
      "\n",
      "The Postgis SQL database for this city example_es_las_palmas_2023 can also be\n",
      "accessed from QGIS or other applications by specifying the server as 'localhost'\n",
      "and port as '5433', with username 'postgres' and password 'ghscic'.The SQL\n",
      "database can also be explored on the command line by using the above password\n",
      "after entering,'psql -U postgres -h gateway.docker.internal -p 5433 -d\n",
      "\"example_es_las_palmas_2023\"'. When using psql, you can type '\\dt' to list\n",
      "database tables, '\\d <table_name>' to list table columns, and 'SELECT * FROM\n",
      "<table_name> LIMIT 10;' to view the first 10 rows of a table.  To exit psql,\n",
      "enter '\\q'.\n",
      "\n"
     ]
    }
   ],
   "source": [
    "analysis(codename)"
   ]
  },
  {
   "cell_type": "markdown",
   "id": "babc6446-8bf5-44cd-ae17-b56bad10e7ba",
   "metadata": {},
   "source": [
    "## Generate resources\n",
    "\n",
    "The `generate()` function is used to generate data, metadata, maps, figure and reports, optionally in multiple languages, for processed cities.  It lists the resources as they are generated.\n",
    "\n",
    "If you remove or comment out the line `%matplotlib agg`, then images will be displayed below.  This has been disabled for the example notebook to keep the file size down."
   ]
  },
  {
   "cell_type": "code",
   "execution_count": 5,
   "id": "c6b61a1b-71f9-4649-8300-ac9b260d8457",
   "metadata": {
    "tags": []
   },
   "outputs": [
    {
     "name": "stdout",
     "output_type": "stream",
     "text": [
      "\n",
      "Las Palmas de Gran Canaria (example_ES_Las_Palmas_2023)\n",
      "\n",
      "Output directory:\n",
      "  process/data/_study_region_outputs/example_ES_Las_Palmas_2023\n",
      "\n",
      "Analysis parameter summary text file\n",
      "  _parameters.yml\n",
      "\n",
      "Analysis log text file\n",
      "  __Las Palmas de Gran Canaria__example_ES_Las_Palmas_2023_processing_log.txt\n",
      "\n",
      "Data files\n",
      "  example_ES_Las_Palmas_2023_1600m_buffer.gpkg\n",
      "    - indicators_school_districts_grid_pop\n",
      "    - indicators_buildings_osm_30m\n",
      "    - indicators_region\n",
      "    - indicators_grid_100m\n",
      "    - indicators_sample_points\n",
      "    - aos_public_osm\n",
      "    - dest_type\n",
      "    - destinations\n",
      "    - clean_intersections_12m\n",
      "    - edges\n",
      "    - nodes\n",
      "    - pt_stops_headway\n",
      "  example_ES_Las_Palmas_2023_indicators_region.csv\n",
      "  example_ES_Las_Palmas_2023_indicators_grid_100m.csv\n",
      "\n",
      "Data dictionaries\n",
      "  output_data_dictionary.csv\n",
      "  output_data_dictionary.xlsx\n",
      "\n",
      "Metadata\n",
      "  example_ES_Las_Palmas_2023_metadata.yml\n",
      "  example_ES_Las_Palmas_2023_metadata.xml\n",
      "\n",
      "Figures and maps (English)\n",
      "  figures/access_profile_English.jpg\n",
      "  figures/all_cities_walkability_English.jpg\n",
      "  figures/pct_access_500m_pt_English.jpg\n",
      "  figures/pct_access_500m_public_open_space_large_score_English.jpg\n",
      "  figures/local_nh_population_density_English.jpg\n",
      "  figures/local_nh_intersection_density_English.jpg\n",
      "  figures/policy_presence_rating_English.jpg\n",
      "  figures/policy_checklist_rating_English.jpg\n",
      "\n",
      "Report (web PDF template; English)\n",
      "  _web reports/Las Palmas - Healthy and Sustainable City Indicators Report - GHSCIC 2022 - English (DRAFT).pdf\n",
      "\n",
      "Figures and maps (Spanish - Spain)\n",
      "  figures/access_profile_Spanish - Spain.jpg\n",
      "  figures/all_cities_walkability_Spanish - Spain.jpg\n",
      "  figures/pct_access_500m_pt_Spanish - Spain.jpg\n",
      "  figures/pct_access_500m_public_open_space_large_score_Spanish - Spain.jpg\n",
      "  figures/local_nh_population_density_Spanish - Spain.jpg\n",
      "  figures/local_nh_intersection_density_Spanish - Spain.jpg\n",
      "  figures/policy_presence_rating_Spanish - Spain.jpg\n",
      "  figures/policy_checklist_rating_Spanish - Spain.jpg\n",
      "\n",
      "Report (web PDF template; Spanish - Spain)\n",
      "  _web reports/Las Palmas de Gran Canaria - Informe de Indicadores de ciudades saludables y sostenibles - GHSCIC 2022 - Español de España (DRAFT).pdf\n",
      "\n",
      "Figures and maps (Chinese - Simplified)\n",
      "  figures/access_profile_Chinese - Simplified.jpg\n",
      "  figures/all_cities_walkability_Chinese - Simplified.jpg\n",
      "  figures/pct_access_500m_pt_Chinese - Simplified.jpg\n",
      "  figures/pct_access_500m_public_open_space_large_score_Chinese - Simplified.jpg\n",
      "  figures/local_nh_population_density_Chinese - Simplified.jpg\n",
      "  figures/local_nh_intersection_density_Chinese - Simplified.jpg\n",
      "  figures/policy_presence_rating_Chinese - Simplified.jpg\n",
      "  figures/policy_checklist_rating_Chinese - Simplified.jpg\n",
      "\n",
      "Report (web PDF template; Chinese - Simplified)\n",
      "  _web reports/大加那利岛拉斯帕尔马斯 - 健康与可持续城市指标报告 - GHSCIC 2022 - 简体中文 (DRAFT).pdf\n",
      "\n",
      "Analysis report (work in progress...)\n",
      "  figures/study_region_boundary.png; Already exists; Delete to re-generate.\n",
      "  figures/study_region_boundary_urban_shading.png; Already exists; Delete to re-generate.\n",
      "  figures/network_edges.png; Already exists; Delete to re-generate.\n",
      "  figures/population_grid.png; Already exists; Delete to re-generate.\n",
      "  figures/destination_count_Fresh_Food_Market.png; Already exists; Delete to re-generate.\n",
      "  figures/destination_count_Convenience.png; Already exists; Delete to re-generate.\n",
      "  figures/destination_count_Public_transport_stop_any_.png; Already exists; Delete to re-generate.\n",
      "  figures/destination_count_Restaurant.png; Already exists; Delete to re-generate.\n",
      "  figures/destination_count_Cafe.png; Already exists; Delete to re-generate.\n",
      "  figures/destination_count_Food_court.png; Already exists; Delete to re-generate.\n",
      "  figures/destination_count_Fast_food.png; Already exists; Delete to re-generate.\n",
      "  figures/destination_count_Pub.png; Already exists; Delete to re-generate.\n",
      "  figures/destination_count_Bar.png; Already exists; Delete to re-generate.\n",
      "  analysis_report_2023-06-07_1726.pdf\n",
      "\n",
      "\n",
      "It is important to take the time to familiarise yourself with the various\n",
      "outputs generated from the configuration and analysis of your region of interest\n",
      "to ensure they provide a fair and accurate representation given local knowledge.\n",
      "Any issues or limitations identified should be understood and can be iteratively\n",
      "addressed and/or acknowledged in documentation prior to dissemination.\n",
      "\n"
     ]
    }
   ],
   "source": [
    "# generate resources, but suppress display of images in this Jupyter Notebook to reduce filesize\n",
    "%matplotlib agg \n",
    "generate(codename)"
   ]
  },
  {
   "cell_type": "markdown",
   "id": "06bc70cf-d775-46bd-a743-83c22d293379",
   "metadata": {},
   "source": [
    "## Sensitivity analyses\n",
    "\n",
    "To evaluate the impact of your methodological decisions taken when configuring your study region, including selection of data sources, you may conduct sensitivity analyses.  An example has been provided to explore the impact of the decision to restrict to the urban area (`example_ES_Las_Palmas`) or not (`ES_Las_Palmas_2023_test_not_urbanx`).  *A priori*, we would assume that by restricting to an urban area would result in higher estimates for population density and street connectivity, and more proximal access to amenities.\n",
    "\n",
    "Other comparisons are possible.  For example, \n",
    "\n",
    "- one could vary the study region boundary supplied, the parameter used for consolidating intersections, supply additional destination data or modify the definitions used to extract features of interest from the OpenStreetMap data.\n",
    "  - When doing these modifications, the resulting generated datasets can be inspected by local experts to evaluate how they conform with their knowledge of the area under study.  \n",
    "- An official reference set of data could be used for example for population, to evaluate the use of a modelled population data layer compared with the official population data.  \n",
    "- Population data for demographic sub-groups could be used (eg. using strata of age and/or sex, or other characteristics as available); the resulting aggregated study region indicators would provide population-specific estimates.\n",
    "- Analyses could be conducted for different time points using historical data\n",
    "- Finally, data could be modified to represent hypothetical interventions and evaluate their impact on the calculated indicators"
   ]
  },
  {
   "cell_type": "code",
   "execution_count": 6,
   "id": "b3bc4bee-1b96-4c43-a906-3c528ecbf926",
   "metadata": {},
   "outputs": [],
   "source": [
    "comparison_codename = 'ES_Las_Palmas_2023_test_not_urbanx'"
   ]
  },
  {
   "cell_type": "code",
   "execution_count": 7,
   "id": "56a5734f-a9f1-47d9-9b51-13d567cf7221",
   "metadata": {},
   "outputs": [
    {
     "name": "stdout",
     "output_type": "stream",
     "text": [
      "\n",
      "Las Palmas de Gran Canaria (ES_Las_Palmas_2023_test_not_urbanx)\n",
      "\n",
      "Output directory:\n",
      "  process/data/_study_region_outputs/ES_Las_Palmas_2023_test_not_urbanx\n",
      "\n",
      "A dated copy of project and region parameters has been saved as process/data/_st\n",
      "udy_region_outputs/ES_Las_Palmas_2023_test_not_urbanx/_parameters.yml.\n",
      "\n",
      "Analysis time zone: Australia/Melbourne (to set time zone for where you are,\n",
      "edit config.yml)\n",
      "\n",
      "Analysis start:\t2023-06-07_1729\n"
     ]
    },
    {
     "data": {
      "application/vnd.jupyter.widget-view+json": {
       "model_id": "e50bcc3598fa4ffcac4da05569daf058",
       "version_major": 2,
       "version_minor": 0
      },
      "text/plain": [
       "                                      0%|                              | (0/13)"
      ]
     },
     "metadata": {},
     "output_type": "display_data"
    },
    {
     "name": "stdout",
     "output_type": "stream",
     "text": [
      "Analysis end:\t2023-06-07_1732 (approximately 2.9 minutes)\n",
      "\n",
      "To generate resources (data files, documentation, maps, figures, reports) using\n",
      "the processed results for this study region, enter:\n",
      "\n",
      "generate ES_Las_Palmas_2023_test_not_urbanx\n",
      "\n",
      "The Postgis SQL database for this city es_las_palmas_2023_test_not_urbanx can\n",
      "also be accessed from QGIS or other applications by specifying the server as\n",
      "'localhost' and port as '5433', with username 'postgres' and password\n",
      "'ghscic'.The SQL database can also be explored on the command line by using the\n",
      "above password after entering,'psql -U postgres -h gateway.docker.internal -p\n",
      "5433 -d \"es_las_palmas_2023_test_not_urbanx\"'. When using psql, you can type\n",
      "'\\dt' to list database tables, '\\d <table_name>' to list table columns, and\n",
      "'SELECT * FROM <table_name> LIMIT 10;' to view the first 10 rows of a table.  To\n",
      "exit psql, enter '\\q'.\n",
      "\n"
     ]
    }
   ],
   "source": [
    "analysis(comparison_codename)"
   ]
  },
  {
   "cell_type": "code",
   "execution_count": 8,
   "id": "286b9b60-d6c7-4c63-b9b5-1487c8bddb14",
   "metadata": {},
   "outputs": [
    {
     "name": "stdout",
     "output_type": "stream",
     "text": [
      "\n",
      "Las Palmas de Gran Canaria (ES_Las_Palmas_2023_test_not_urbanx)\n",
      "\n",
      "Output directory:\n",
      "  process/data/_study_region_outputs/ES_Las_Palmas_2023_test_not_urbanx\n",
      "\n",
      "Analysis parameter summary text file\n",
      "  _parameters.yml\n",
      "\n",
      "Analysis log text file\n",
      "  __Las Palmas de Gran Canaria__ES_Las_Palmas_2023_test_not_urbanx_processing_log.txt\n",
      "\n",
      "Data files\n",
      "  ES_Las_Palmas_2023_test_not_urbanx_1600m_buffer.gpkg\n",
      "    - indicators_region\n",
      "    - indicators_grid_100m\n",
      "    - indicators_sample_points\n",
      "    - aos_public_osm\n",
      "    - dest_type\n",
      "    - destinations\n",
      "    - clean_intersections_12m\n",
      "    - edges\n",
      "    - nodes\n",
      "    - pt_stops_headway\n",
      "  ES_Las_Palmas_2023_test_not_urbanx_indicators_region.csv\n",
      "  ES_Las_Palmas_2023_test_not_urbanx_indicators_grid_100m.csv\n",
      "\n",
      "Data dictionaries\n",
      "  output_data_dictionary.csv\n",
      "  output_data_dictionary.xlsx\n",
      "\n",
      "Metadata\n",
      "  ES_Las_Palmas_2023_test_not_urbanx_metadata.yml\n",
      "  ES_Las_Palmas_2023_test_not_urbanx_metadata.xml\n",
      "\n",
      "Figures and maps (English)\n",
      "  figures/access_profile_English.jpg\n",
      "  figures/all_cities_walkability_English.jpg\n",
      "  figures/pct_access_500m_pt_English.jpg\n",
      "  figures/pct_access_500m_public_open_space_large_score_English.jpg\n",
      "  figures/local_nh_population_density_English.jpg\n",
      "  figures/local_nh_intersection_density_English.jpg\n",
      "  figures/policy_presence_rating_English.jpg\n",
      "  figures/policy_checklist_rating_English.jpg\n",
      "\n",
      "Report (web PDF template; English)\n",
      "  _web reports/Las Palmas - Healthy and Sustainable City Indicators Report - GHSCIC 2022 - English (DRAFT).pdf\n",
      "\n",
      "Figures and maps (Spanish - Spain)\n",
      "  figures/access_profile_Spanish - Spain.jpg\n",
      "  figures/all_cities_walkability_Spanish - Spain.jpg\n",
      "  figures/pct_access_500m_pt_Spanish - Spain.jpg\n",
      "  figures/pct_access_500m_public_open_space_large_score_Spanish - Spain.jpg\n",
      "  figures/local_nh_population_density_Spanish - Spain.jpg\n",
      "  figures/local_nh_intersection_density_Spanish - Spain.jpg\n",
      "  figures/policy_presence_rating_Spanish - Spain.jpg\n",
      "  figures/policy_checklist_rating_Spanish - Spain.jpg\n",
      "\n",
      "Report (web PDF template; Spanish - Spain)\n",
      "  _web reports/Las Palmas de Gran Canaria - Informe de Indicadores de ciudades saludables y sostenibles - GHSCIC 2022 - Español de España (DRAFT).pdf\n",
      "\n",
      "Figures and maps (Chinese - Simplified)\n",
      "  figures/access_profile_Chinese - Simplified.jpg\n",
      "  figures/all_cities_walkability_Chinese - Simplified.jpg\n",
      "  figures/pct_access_500m_pt_Chinese - Simplified.jpg\n",
      "  figures/pct_access_500m_public_open_space_large_score_Chinese - Simplified.jpg\n",
      "  figures/local_nh_population_density_Chinese - Simplified.jpg\n",
      "  figures/local_nh_intersection_density_Chinese - Simplified.jpg\n",
      "  figures/policy_presence_rating_Chinese - Simplified.jpg\n",
      "  figures/policy_checklist_rating_Chinese - Simplified.jpg\n",
      "\n",
      "Report (web PDF template; Chinese - Simplified)\n",
      "  _web reports/大加那利岛拉斯帕尔马斯 - 健康与可持续城市指标报告 - GHSCIC 2022 - 简体中文 (DRAFT).pdf\n",
      "\n",
      "Analysis report (work in progress...)\n",
      "  figures/study_region_boundary.png; Already exists; Delete to re-generate.\n",
      "  figures/study_region_boundary_urban_shading.png; Already exists; Delete to re-generate.\n",
      "  figures/network_edges.png; Already exists; Delete to re-generate.\n",
      "  figures/population_grid.png; Already exists; Delete to re-generate.\n",
      "  figures/destination_count_Fresh_Food_Market.png; Already exists; Delete to re-generate.\n",
      "  figures/destination_count_Convenience.png; Already exists; Delete to re-generate.\n",
      "  figures/destination_count_Public_transport_stop_any_.png; Already exists; Delete to re-generate.\n",
      "  figures/destination_count_Restaurant.png; Already exists; Delete to re-generate.\n",
      "  figures/destination_count_Cafe.png; Already exists; Delete to re-generate.\n",
      "  figures/destination_count_Food_court.png; Already exists; Delete to re-generate.\n",
      "  figures/destination_count_Fast_food.png; Already exists; Delete to re-generate.\n",
      "  figures/destination_count_Pub.png; Already exists; Delete to re-generate.\n",
      "  figures/destination_count_Bar.png; Already exists; Delete to re-generate.\n",
      "  analysis_report_2023-06-07_1726.pdf\n",
      "\n",
      "\n",
      "It is important to take the time to familiarise yourself with the various\n",
      "outputs generated from the configuration and analysis of your region of interest\n",
      "to ensure they provide a fair and accurate representation given local knowledge.\n",
      "Any issues or limitations identified should be understood and can be iteratively\n",
      "addressed and/or acknowledged in documentation prior to dissemination.\n",
      "\n"
     ]
    }
   ],
   "source": [
    "# generate resources, but suppress display of images in this Jupyter Notebook to reduce filesize\n",
    "%matplotlib agg\n",
    "generate(comparison_codename)"
   ]
  },
  {
   "cell_type": "markdown",
   "id": "c05c4562-f5fb-459b-8440-0b57fdc36d08",
   "metadata": {},
   "source": [
    "## Comparisons\n",
    "\n",
    "As suggested above, a variety of interesting comparisons can be made using generated indicator data\n",
    "\n",
    "- Sensitivity analyses exploring the impact of methodological choices\n",
    "- Comparisons between different study regions for the same point in time\n",
    "- Comparisons within a city for different points in time\n",
    "- Evaluating the impact of hypothetical scenarios and/or interventions, using modified data\n",
    "\n",
    "Below, we compare the impact of restricting the study region to the urban area"
   ]
  },
  {
   "cell_type": "code",
   "execution_count": 9,
   "id": "d57cd8e7-3abd-4ef9-990b-233925dbd758",
   "metadata": {
    "scrolled": true,
    "tags": []
   },
   "outputs": [
    {
     "name": "stdout",
     "output_type": "stream",
     "text": [
      "\n",
      "Las Palmas de Gran Canaria (example_ES_Las_Palmas_2023)\n",
      "\n",
      "Output directory:\n",
      "  process/data/_study_region_outputs/example_ES_Las_Palmas_2023\n",
      "\n",
      "\n",
      "Comparison saved as compare_example_ES_Las_Palmas_2023_ES_Las_Palmas_2023_test_not_urbanx_2023-06-07_1726.csv\n",
      "\n"
     ]
    },
    {
     "data": {
      "text/html": [
       "<div>\n",
       "<style scoped>\n",
       "    .dataframe tbody tr th:only-of-type {\n",
       "        vertical-align: middle;\n",
       "    }\n",
       "\n",
       "    .dataframe tbody tr th {\n",
       "        vertical-align: top;\n",
       "    }\n",
       "\n",
       "    .dataframe thead th {\n",
       "        text-align: right;\n",
       "    }\n",
       "</style>\n",
       "<table border=\"1\" class=\"dataframe\">\n",
       "  <thead>\n",
       "    <tr style=\"text-align: right;\">\n",
       "      <th></th>\n",
       "      <th>example_ES_Las_Palmas_2023</th>\n",
       "      <th>ES_Las_Palmas_2023_test_not_urbanx</th>\n",
       "    </tr>\n",
       "  </thead>\n",
       "  <tbody>\n",
       "    <tr>\n",
       "      <th>Area (sqkm)</th>\n",
       "      <td>62.987900</td>\n",
       "      <td>103.315941</td>\n",
       "    </tr>\n",
       "    <tr>\n",
       "      <th>Population estimate</th>\n",
       "      <td>333051.000000</td>\n",
       "      <td>366501.000000</td>\n",
       "    </tr>\n",
       "    <tr>\n",
       "      <th>Population per sqkm</th>\n",
       "      <td>5288.000000</td>\n",
       "      <td>3547.000000</td>\n",
       "    </tr>\n",
       "    <tr>\n",
       "      <th>Intersections</th>\n",
       "      <td>5291.000000</td>\n",
       "      <td>6629.000000</td>\n",
       "    </tr>\n",
       "    <tr>\n",
       "      <th>Intersections per sqkm</th>\n",
       "      <td>84.000261</td>\n",
       "      <td>64.162412</td>\n",
       "    </tr>\n",
       "    <tr>\n",
       "      <th>urban_sample_point_count</th>\n",
       "      <td>31814.000000</td>\n",
       "      <td>37526.000000</td>\n",
       "    </tr>\n",
       "    <tr>\n",
       "      <th>pop_pct_access_500m_fresh_food_market_score</th>\n",
       "      <td>53.941766</td>\n",
       "      <td>48.811916</td>\n",
       "    </tr>\n",
       "    <tr>\n",
       "      <th>pop_pct_access_500m_convenience_score</th>\n",
       "      <td>56.873850</td>\n",
       "      <td>51.024605</td>\n",
       "    </tr>\n",
       "    <tr>\n",
       "      <th>pop_pct_access_500m_pt_osm_any_score</th>\n",
       "      <td>85.605719</td>\n",
       "      <td>82.910155</td>\n",
       "    </tr>\n",
       "    <tr>\n",
       "      <th>pop_pct_access_500m_public_open_space_any_score</th>\n",
       "      <td>76.050245</td>\n",
       "      <td>70.427300</td>\n",
       "    </tr>\n",
       "    <tr>\n",
       "      <th>pop_pct_access_500m_public_open_space_large_score</th>\n",
       "      <td>49.012666</td>\n",
       "      <td>43.670386</td>\n",
       "    </tr>\n",
       "    <tr>\n",
       "      <th>pop_pct_access_500m_pt_gtfs_any_score</th>\n",
       "      <td>85.320447</td>\n",
       "      <td>78.541354</td>\n",
       "    </tr>\n",
       "    <tr>\n",
       "      <th>pop_pct_access_500m_pt_gtfs_freq_30_score</th>\n",
       "      <td>81.452535</td>\n",
       "      <td>73.463982</td>\n",
       "    </tr>\n",
       "    <tr>\n",
       "      <th>pop_pct_access_500m_pt_gtfs_freq_20_score</th>\n",
       "      <td>74.617043</td>\n",
       "      <td>65.864772</td>\n",
       "    </tr>\n",
       "    <tr>\n",
       "      <th>pop_pct_access_500m_pt_any_score</th>\n",
       "      <td>92.685524</td>\n",
       "      <td>90.068449</td>\n",
       "    </tr>\n",
       "    <tr>\n",
       "      <th>pop_nh_pop_density</th>\n",
       "      <td>10311.232799</td>\n",
       "      <td>9362.183404</td>\n",
       "    </tr>\n",
       "    <tr>\n",
       "      <th>pop_nh_intersection_density</th>\n",
       "      <td>184.871877</td>\n",
       "      <td>176.169600</td>\n",
       "    </tr>\n",
       "    <tr>\n",
       "      <th>pop_daily_living</th>\n",
       "      <td>2.035011</td>\n",
       "      <td>1.899050</td>\n",
       "    </tr>\n",
       "    <tr>\n",
       "      <th>pop_walkability</th>\n",
       "      <td>0.597249</td>\n",
       "      <td>0.650780</td>\n",
       "    </tr>\n",
       "    <tr>\n",
       "      <th>local_nh_population_density</th>\n",
       "      <td>8310.625028</td>\n",
       "      <td>7088.115932</td>\n",
       "    </tr>\n",
       "    <tr>\n",
       "      <th>local_nh_intersection_density</th>\n",
       "      <td>165.812482</td>\n",
       "      <td>153.532920</td>\n",
       "    </tr>\n",
       "    <tr>\n",
       "      <th>local_daily_living</th>\n",
       "      <td>1.609482</td>\n",
       "      <td>1.427379</td>\n",
       "    </tr>\n",
       "    <tr>\n",
       "      <th>local_walkability</th>\n",
       "      <td>-0.731276</td>\n",
       "      <td>-0.806465</td>\n",
       "    </tr>\n",
       "  </tbody>\n",
       "</table>\n",
       "</div>"
      ],
      "text/plain": [
       "                                                   example_ES_Las_Palmas_2023   \n",
       "Area (sqkm)                                                         62.987900  \\\n",
       "Population estimate                                             333051.000000   \n",
       "Population per sqkm                                               5288.000000   \n",
       "Intersections                                                     5291.000000   \n",
       "Intersections per sqkm                                              84.000261   \n",
       "urban_sample_point_count                                         31814.000000   \n",
       "pop_pct_access_500m_fresh_food_market_score                         53.941766   \n",
       "pop_pct_access_500m_convenience_score                               56.873850   \n",
       "pop_pct_access_500m_pt_osm_any_score                                85.605719   \n",
       "pop_pct_access_500m_public_open_space_any_score                     76.050245   \n",
       "pop_pct_access_500m_public_open_space_large_score                   49.012666   \n",
       "pop_pct_access_500m_pt_gtfs_any_score                               85.320447   \n",
       "pop_pct_access_500m_pt_gtfs_freq_30_score                           81.452535   \n",
       "pop_pct_access_500m_pt_gtfs_freq_20_score                           74.617043   \n",
       "pop_pct_access_500m_pt_any_score                                    92.685524   \n",
       "pop_nh_pop_density                                               10311.232799   \n",
       "pop_nh_intersection_density                                        184.871877   \n",
       "pop_daily_living                                                     2.035011   \n",
       "pop_walkability                                                      0.597249   \n",
       "local_nh_population_density                                       8310.625028   \n",
       "local_nh_intersection_density                                      165.812482   \n",
       "local_daily_living                                                   1.609482   \n",
       "local_walkability                                                   -0.731276   \n",
       "\n",
       "                                                   ES_Las_Palmas_2023_test_not_urbanx  \n",
       "Area (sqkm)                                                                103.315941  \n",
       "Population estimate                                                     366501.000000  \n",
       "Population per sqkm                                                       3547.000000  \n",
       "Intersections                                                             6629.000000  \n",
       "Intersections per sqkm                                                      64.162412  \n",
       "urban_sample_point_count                                                 37526.000000  \n",
       "pop_pct_access_500m_fresh_food_market_score                                 48.811916  \n",
       "pop_pct_access_500m_convenience_score                                       51.024605  \n",
       "pop_pct_access_500m_pt_osm_any_score                                        82.910155  \n",
       "pop_pct_access_500m_public_open_space_any_score                             70.427300  \n",
       "pop_pct_access_500m_public_open_space_large_score                           43.670386  \n",
       "pop_pct_access_500m_pt_gtfs_any_score                                       78.541354  \n",
       "pop_pct_access_500m_pt_gtfs_freq_30_score                                   73.463982  \n",
       "pop_pct_access_500m_pt_gtfs_freq_20_score                                   65.864772  \n",
       "pop_pct_access_500m_pt_any_score                                            90.068449  \n",
       "pop_nh_pop_density                                                        9362.183404  \n",
       "pop_nh_intersection_density                                                176.169600  \n",
       "pop_daily_living                                                             1.899050  \n",
       "pop_walkability                                                              0.650780  \n",
       "local_nh_population_density                                               7088.115932  \n",
       "local_nh_intersection_density                                              153.532920  \n",
       "local_daily_living                                                           1.427379  \n",
       "local_walkability                                                           -0.806465  "
      ]
     },
     "execution_count": 9,
     "metadata": {},
     "output_type": "execute_result"
    }
   ],
   "source": [
    "compare(codename,comparison_codename)"
   ]
  },
  {
   "cell_type": "markdown",
   "id": "9f5c5eea-6e04-491d-bb6c-a31ebb5235f6",
   "metadata": {},
   "source": [
    "We can see from the above comparison that, as expected, density estimates and the percentage of population with access to most kinds of amenities evaluated were higher with restriction to the empirically defined urban region (63 sqkm compared with 103.3 sqkm; the latter being 1.6 times the size but having only approximately 10% more population).  The differences in walkability results reflect the fact that most people live in the smaller, more urbanised portion of the study region.  The most likely explanation for the observed differences in indicators is that urban areas are associated with higher population, street connectivity and levels of amenity provision.  However, the possibility of data bias should also be considered and if possible evaluated: data may have more completeness, detail and be more up to date for urban areas.  \n",
    "\n",
    "Hence, restriction to the empirical urban area is an important methodological choice: it could mitigate bias for areas in cases where data is found lacking, however, it could also exclude important sectors of the population living in urban fringe areas that may be of interest and whose inclusion may be important for a more complete understanding of the equitable distribution of healthy and sustainable urban environments.  \n",
    "\n",
    "Decisions such as these need to be made by analysts with local area knowledge or in consulation with local experts to ensure the representation and analysis of the study region in question is fair, meaningful and useful for informing local decision making.  Sensitivity analyses can be used to justify the decisions made when configuring analyses, to understand their consequences for inference and help validate and thus ensure quality of the indicator data, estimates and reports produced prior to dissemination."
   ]
  },
  {
   "cell_type": "markdown",
   "id": "1dbdfebb-9399-410e-889c-aa100bdf591d",
   "metadata": {},
   "source": [
    "## More advanced usage and mapping\n",
    "Regions can also be defined programmatically, and this is what is occuring under the hood in the subprocesses that were run above:"
   ]
  },
  {
   "cell_type": "code",
   "execution_count": 10,
   "id": "83124d58-b3a7-4da4-ae90-e4753eeee768",
   "metadata": {},
   "outputs": [],
   "source": [
    "r = ghsci.Region('example_ES_Las_Palmas_2023')"
   ]
  },
  {
   "cell_type": "markdown",
   "id": "219d5d17-e69e-419c-8901-53d6cbcf9fc5",
   "metadata": {},
   "source": [
    "One application of creating a `Region` object in this way is to use its own methods.\n",
    "\n",
    "For example, `r.get_df('indicators_region')` to retrieve and display a dataframe of processed study region results:"
   ]
  },
  {
   "cell_type": "code",
   "execution_count": 11,
   "id": "c2b2d1cb-9c4c-4b67-9897-77e52f44a31a",
   "metadata": {},
   "outputs": [
    {
     "data": {
      "text/html": [
       "<div>\n",
       "<style scoped>\n",
       "    .dataframe tbody tr th:only-of-type {\n",
       "        vertical-align: middle;\n",
       "    }\n",
       "\n",
       "    .dataframe tbody tr th {\n",
       "        vertical-align: top;\n",
       "    }\n",
       "\n",
       "    .dataframe thead th {\n",
       "        text-align: right;\n",
       "    }\n",
       "</style>\n",
       "<table border=\"1\" class=\"dataframe\">\n",
       "  <thead>\n",
       "    <tr style=\"text-align: right;\">\n",
       "      <th></th>\n",
       "      <th>Continent</th>\n",
       "      <th>Country</th>\n",
       "      <th>ISO 3166-1 alpha-2</th>\n",
       "      <th>study_region</th>\n",
       "      <th>Area (sqkm)</th>\n",
       "      <th>Population estimate</th>\n",
       "      <th>Population per sqkm</th>\n",
       "      <th>Intersections</th>\n",
       "      <th>Intersections per sqkm</th>\n",
       "      <th>E_EC2E_T15</th>\n",
       "      <th>...</th>\n",
       "      <th>pop_pct_access_500m_pt_any_score</th>\n",
       "      <th>pop_nh_pop_density</th>\n",
       "      <th>pop_nh_intersection_density</th>\n",
       "      <th>pop_daily_living</th>\n",
       "      <th>pop_walkability</th>\n",
       "      <th>local_nh_population_density</th>\n",
       "      <th>local_nh_intersection_density</th>\n",
       "      <th>local_daily_living</th>\n",
       "      <th>local_walkability</th>\n",
       "      <th>geom</th>\n",
       "    </tr>\n",
       "  </thead>\n",
       "  <tbody>\n",
       "    <tr>\n",
       "      <th>0</th>\n",
       "      <td>Europe</td>\n",
       "      <td>Spain</td>\n",
       "      <td>ES</td>\n",
       "      <td>Las Palmas de Gran Canaria</td>\n",
       "      <td>62.9879</td>\n",
       "      <td>333051</td>\n",
       "      <td>5288</td>\n",
       "      <td>5291</td>\n",
       "      <td>84.000261</td>\n",
       "      <td>206489.154347</td>\n",
       "      <td>...</td>\n",
       "      <td>92.685524</td>\n",
       "      <td>10311.232799</td>\n",
       "      <td>184.871877</td>\n",
       "      <td>2.035011</td>\n",
       "      <td>0.597249</td>\n",
       "      <td>8310.625028</td>\n",
       "      <td>165.812482</td>\n",
       "      <td>1.609482</td>\n",
       "      <td>-0.731276</td>\n",
       "      <td>0106000020031600000b00000001030000000100000004...</td>\n",
       "    </tr>\n",
       "  </tbody>\n",
       "</table>\n",
       "<p>1 rows × 32 columns</p>\n",
       "</div>"
      ],
      "text/plain": [
       "  Continent Country ISO 3166-1 alpha-2                study_region   \n",
       "0    Europe   Spain                 ES  Las Palmas de Gran Canaria  \\\n",
       "\n",
       "   Area (sqkm)  Population estimate  Population per sqkm  Intersections   \n",
       "0      62.9879               333051                 5288           5291  \\\n",
       "\n",
       "   Intersections per sqkm     E_EC2E_T15  ...   \n",
       "0               84.000261  206489.154347  ...  \\\n",
       "\n",
       "   pop_pct_access_500m_pt_any_score  pop_nh_pop_density   \n",
       "0                         92.685524        10311.232799  \\\n",
       "\n",
       "   pop_nh_intersection_density  pop_daily_living  pop_walkability   \n",
       "0                   184.871877          2.035011         0.597249  \\\n",
       "\n",
       "   local_nh_population_density  local_nh_intersection_density   \n",
       "0                  8310.625028                     165.812482  \\\n",
       "\n",
       "   local_daily_living  local_walkability   \n",
       "0            1.609482          -0.731276  \\\n",
       "\n",
       "                                                geom  \n",
       "0  0106000020031600000b00000001030000000100000004...  \n",
       "\n",
       "[1 rows x 32 columns]"
      ]
     },
     "execution_count": 11,
     "metadata": {},
     "output_type": "execute_result"
    }
   ],
   "source": [
    "r.get_df('indicators_region')"
   ]
  },
  {
   "cell_type": "markdown",
   "id": "65867d96-a081-437c-b53e-72e14dd822d4",
   "metadata": {},
   "source": [
    "You could also list the tables that have been generated in the study region database:"
   ]
  },
  {
   "cell_type": "code",
   "execution_count": 12,
   "id": "f38f2780-f664-4cf0-8029-cd3cfd97fe6c",
   "metadata": {},
   "outputs": [
    {
     "data": {
      "text/plain": [
       "['spatial_ref_sys',\n",
       " 'osm_20230221_point',\n",
       " 'nodes',\n",
       " 'script_log',\n",
       " 'study_region_boundary',\n",
       " 'osm_20230221_roads',\n",
       " 'edges_simplified',\n",
       " 'clean_intersections_12m',\n",
       " 'full_urban_region',\n",
       " 'edges_vertices_pgr',\n",
       " 'edges',\n",
       " 'urban_region',\n",
       " 'osm_20230221_polygon',\n",
       " 'osm_20230221_line',\n",
       " 'urban_study_region_1600m',\n",
       " 'urban_study_region',\n",
       " 'population_100m_2020',\n",
       " 'dest_type',\n",
       " 'not_open_space',\n",
       " 'aos_line',\n",
       " 'open_space_areas',\n",
       " 'open_space',\n",
       " 'aos_nodes',\n",
       " 'aos_public_osm',\n",
       " 'aos_public_any_nodes_30m_line',\n",
       " 'aos_public_large_nodes_30m_line',\n",
       " 'urban_sample_points',\n",
       " 'sampling_points_30',\n",
       " 'destinations',\n",
       " 'population_dest_summary',\n",
       " 'urban_dest_summary',\n",
       " 'urban_covariates',\n",
       " 'pt_stops_headway',\n",
       " 'nodes_pop_intersect_density',\n",
       " 'indicators_sample_points',\n",
       " 'indicators_grid_100m',\n",
       " 'indicators_region',\n",
       " 'agg_school_districts_grid_pop',\n",
       " 'indicators_school_districts_grid_pop',\n",
       " 'indicators_buildings_osm_30m']"
      ]
     },
     "execution_count": 12,
     "metadata": {},
     "output_type": "execute_result"
    }
   ],
   "source": [
    "r.get_tables()"
   ]
  },
  {
   "cell_type": "markdown",
   "id": "d3dc6dca-0d9a-4c27-aa94-d7e51b970162",
   "metadata": {},
   "source": [
    "You can also use other functions that accept a `Region` as an argument.\n",
    "\n",
    "For example, an interactive choropleth map for a particular indicator of interest can be generated and displayed (this code has been left unrun so data isn't embedded in the notebook, reducing the file size):"
   ]
  },
  {
   "cell_type": "code",
   "execution_count": null,
   "id": "671f512e-6c12-453f-a274-db705f3a79f1",
   "metadata": {
    "scrolled": true
   },
   "outputs": [],
   "source": [
    "map = plot_choropleth_map(\n",
    "    r,\n",
    "    field='local_walkability',\n",
    "    layer='indicators_grid_100m',\n",
    "    layer_id='grid_id',\n",
    "    title='Local walkability',\n",
    "    attribution='Global Healthy and Sustainable City Indicators Collaboration'\n",
    ")\n",
    "map"
   ]
  },
  {
   "cell_type": "markdown",
   "id": "18a25806-6e25-4cb7-bb7e-6e4d62d47b75",
   "metadata": {},
   "source": [
    "This map could be exported to a stand-alone html file `interactive_local_walkability_map_example.html` for viewing in your own web browser:"
   ]
  },
  {
   "cell_type": "code",
   "execution_count": 14,
   "id": "3ace0526-d930-49ea-b141-3be1f7ce33c2",
   "metadata": {},
   "outputs": [],
   "source": [
    "map.save(f'{r.config[\"region_dir\"]}/interactive_local_walkability_map_example.html')"
   ]
  },
  {
   "attachments": {
    "f868f10b-bb0f-4918-ae44-ad1638cf4e46.png": {
     "image/png": "[encoded data removed]"
    }
   },
   "cell_type": "markdown",
   "id": "ebcf8d6d-aecd-462e-873c-c8939107d9af",
   "metadata": {},
   "source": [
    "As a result of running the above process, this interactive map HTML file and the other generated resources can be found in the study region data output folder:\n",
    "![image.png](attachment:f868f10b-bb0f-4918-ae44-ad1638cf4e46.png)"
   ]
  }
 ],
 "metadata": {
  "kernelspec": {
   "display_name": "Python 3 (ipykernel)",
   "language": "python",
   "name": "python3"
  },
  "language_info": {
   "codemirror_mode": {
    "name": "ipython",
    "version": 3
   },
   "file_extension": ".py",
   "mimetype": "text/x-python",
   "name": "python",
   "nbconvert_exporter": "python",
   "pygments_lexer": "ipython3",
   "version": "3.10.11"
  }
 },
 "nbformat": 4,
 "nbformat_minor": 5
}
