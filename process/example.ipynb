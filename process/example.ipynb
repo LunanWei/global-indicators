{
 "cells": [
  {
   "cell_type": "code",
   "execution_count": 1,
   "id": "c2d9ab21-ce18-492c-9fb3-52a0ed686472",
   "metadata": {
    "tags": []
   },
   "outputs": [],
   "source": [
    "from configure import configuration\n",
    "from analysis import analysis\n",
    "from generate import generate\n",
    "from compare import compare"
   ]
  },
  {
   "cell_type": "markdown",
   "id": "ee75ca25-71c8-408b-8315-3b0e360bc373",
   "metadata": {},
   "source": [
    "# Global Healthy and Sustainable City Indicators (GHSCI) analysis for Las Palmas de Gran Canaria, Spain\n",
    "\n",
    "This notebook contains an example of how the GHSCI tool can be used to run an analysis for a study region of interest, for example, a city or set of neighbourhoods."
   ]
  },
  {
   "cell_type": "code",
   "execution_count": 2,
   "id": "7f18ba0e-6daa-4533-8389-9e0413ef5a7b",
   "metadata": {
    "tags": []
   },
   "outputs": [],
   "source": [
    "codename = 'example_ES_Las_Palmas_2023'"
   ]
  },
  {
   "cell_type": "markdown",
   "id": "9c129046-5728-4ac9-8d14-f2ca14749d66",
   "metadata": {},
   "source": [
    "## Configuration\n",
    "\n",
    "A helper script has been provided for initialising new study region configuration files.  Two such files have been provided in the folder `process/configuration/regions`:\n",
    "\n",
    "1. `example_ES_Las_Palmas_2023.yml`\n",
    "  - This **example** defines the Spanish city of Las Palmas de Gran Canaria with a target time point of 2023\n",
    "  - The codename `example_ES_Las_Palmas_2023` describes the above using a recommended shorthand structure, starting with a two-letter country code\n",
    "    - For cities with shared names in different countries like Valencia this can differentiate between the two (i.e. ES_Valencia_2023 refers to the city in Spain, and VE_Valencia_2023 to the city Venezuela, and both using the same time point of 2023)\n",
    "  - You can use suffixes or prefixes as required to ensure your codenames clearly describe the study region configurations they represent\n",
    "2. `ES_Las_Palmas_2023_test_not_urbanx.yml`\n",
    "  - This study region configuration provides a **sensitivity analysis** for the use of a city administrative boundary without restricting to the intersection with an urban region using the Global Human Settlements Layer Urban Centres Database (ie. `ghsl_intersection = false` instead of `true`)\n",
    "  - We can use this later on in the workflow to compare the indicator results as a sensitivity analysis and evaluate the impact of this methodological decision\n",
    "\n",
    "Codenames chosen should be no more than 40 characters in total to avoid errors with too long file names when additional files are created using this name as part of the workflow."
   ]
  },
  {
   "cell_type": "code",
   "execution_count": 3,
   "id": "39a675e0-57e7-467e-98fd-6a0eacbdd71a",
   "metadata": {
    "tags": []
   },
   "outputs": [
    {
     "name": "stdout",
     "output_type": "stream",
     "text": [
      "\n",
      "Configuration file for the specified study region codename\n",
      "'example_ES_Las_Palmas_2023' already exists:\n",
      "configuration/regions/example_ES_Las_Palmas_2023.yml.\n",
      "\n",
      "Please open and edit this file in a text editor following the provided example\n",
      "directions in order to complete configuration for your study region.  A\n",
      "completed example study region configuration can be viewed in the file\n",
      "'configuration/regions/example_ES_Las_Palmas_2023.yml'.\n",
      "\n",
      "To view additional guidance on configuration, run this script again without a\n",
      "codename.\n",
      "\n",
      "Once configuration has been completed, to proceed to analysis for this city,\n",
      "enter:\n",
      "analysis example_ES_Las_Palmas_2023\n"
     ]
    }
   ],
   "source": [
    "configuration(codename)"
   ]
  },
  {
   "cell_type": "markdown",
   "id": "c5d42a0e-e0f8-490e-980f-f31624a3d28f",
   "metadata": {},
   "source": [
    "## Analysis\n",
    "\n",
    "The below function runs the following series of scripts located in the `subprocesses` folder for the specified study region codename:\n",
    "\n",
    "|**Subprocess step** | **Description** | \r\n",
    "|--------------------|-----------------|\r\n",
    "|_00_create_database.py | Create database | \r\n",
    "|_01_create_study_region.py | Create study region | \r\n",
    "|_02_create_osm_resources.py | Create OpenStreetMap resources | \r\n",
    "|_03_create_network_resources.py | Create pedestrian network | \r\n",
    "|_04_create_population_grid.py | Align population distribution | \r\n",
    "|_05_compile_destinations.py | Compile destinations | \r\n",
    "|_06_open_space_areas_setup.py | Identify public open space | \r\n",
    "|_07_locate_origins_destinations.py | Analyse local neighbourhoods | \r\n",
    "|_08_destination_summary.py | Summarise spatial distribution | \r\n",
    "|_09_urban_covariates.py | Collate urban covariates | \r\n",
    "|_10_gtfs_analysis.py | Analyse GTFS Feeds | \r\n",
    "|_11_neighbourhood_analysis.py | Analyse neighbourhoods | \r\n",
    "|_12_aggregation.py | Aggregate region summary analyses | y analyses',"
   ]
  },
  {
   "cell_type": "code",
   "execution_count": 4,
   "id": "a927c639-db87-45d0-b9c7-65da8393afa6",
   "metadata": {
    "tags": []
   },
   "outputs": [
    {
     "name": "stdout",
     "output_type": "stream",
     "text": [
      "\n",
      "Las Palmas de Gran Canaria (example_ES_Las_Palmas_2023)\n",
      "\n",
      "Output directory:\n",
      "  process/data/_study_region_outputs/example_ES_Las_Palmas_2023\n",
      "\n",
      "A dated copy of project and region parameters has been saved as\n",
      "process/data/_study_region_outputs/example_ES_Las_Palmas_2023/_parameters.yml.\n",
      "\n",
      "Analysis time zone: Australia/Melbourne (to set time zone for where you are,\n",
      "edit config.yml)\n",
      "\n",
      "Analysis start:\t2023-05-30_1618\n"
     ]
    },
    {
     "data": {
      "application/vnd.jupyter.widget-view+json": {
       "model_id": "96f8c93cd0644f758aa5d84f9d788af3",
       "version_major": 2,
       "version_minor": 0
      },
      "text/plain": [
       "                                      0%|                              | (0/13)"
      ]
     },
     "metadata": {},
     "output_type": "display_data"
    },
    {
     "name": "stdout",
     "output_type": "stream",
     "text": [
      "Analysis end:\t2023-05-30_1620 (approximately 2.6 minutes)\n",
      "\n",
      "To generate resources (data files, documentation, maps, figures, reports) using\n",
      "the processed results for this study region, enter:\n",
      "\n",
      "generate example_ES_Las_Palmas_2023\n",
      "\n",
      "The Postgis SQL database for this city example_es_las_palmas_2023 can also be\n",
      "accessed from QGIS or other applications by specifying the server as 'localhost'\n",
      "and port as '5433', with username 'postgres' and password 'ghscic'.The SQL\n",
      "database can also be explored on the command line by using the above password\n",
      "after entering,'psql -U postgres -h gateway.docker.internal -p 5433 -d\n",
      "\"example_es_las_palmas_2023\"'. When using psql, you can type '\\dt' to list\n",
      "database tables, '\\d <table_name>' to list table columns, and 'SELECT * FROM\n",
      "<table_name> LIMIT 10;' to view the first 10 rows of a table.  To exit psql,\n",
      "enter '\\q'.\n",
      "\n"
     ]
    }
   ],
   "source": [
    "analysis(codename)"
   ]
  },
  {
   "cell_type": "markdown",
   "id": "babc6446-8bf5-44cd-ae17-b56bad10e7ba",
   "metadata": {},
   "source": [
    "## Generate resources\n",
    "\n",
    "The `generate()` function is used to generate data, metadata, maps, figure and reports, optionally in multiple languages, for processed cities.  It lists the resources as they are generated."
   ]
  },
  {
   "cell_type": "code",
   "execution_count": 6,
   "id": "c6b61a1b-71f9-4649-8300-ac9b260d8457",
   "metadata": {
    "tags": []
   },
   "outputs": [
    {
     "name": "stdout",
     "output_type": "stream",
     "text": [
      "\n",
      "Las Palmas de Gran Canaria (example_ES_Las_Palmas_2023)\n",
      "\n",
      "Output directory:\n",
      "  process/data/_study_region_outputs/example_ES_Las_Palmas_2023\n",
      "\n",
      "Analysis parameter summary text file\n",
      "  _parameters.yml\n",
      "\n",
      "Analysis log text file\n",
      "  __Las Palmas de Gran Canaria__example_ES_Las_Palmas_2023_processing_log.txt\n",
      "\n",
      "Data files\n",
      "  example_ES_Las_Palmas_2023_1600m_buffer.gpkg\n",
      "    - example_ES_Las_Palmas_2023_region\n",
      "    - example_ES_Las_Palmas_2023_grid_100m\n",
      "    - example_ES_Las_Palmas_2023_sample_points\n",
      "    - aos_public_osm\n",
      "    - dest_type\n",
      "    - destinations\n",
      "    - clean_intersections_12m\n",
      "    - edges\n",
      "    - nodes\n",
      "    - pt_stops_headway\n",
      "example_ES_Las_Palmas_2023_region.csv\n",
      "example_ES_Las_Palmas_2023_grid_100m.csv\n",
      "\n",
      "Data dictionaries\n",
      "  output_data_dictionary.csv\n",
      "  output_data_dictionary.xlsx\n",
      "\n",
      "Metadata\n",
      "  example_ES_Las_Palmas_2023_metadata.yml\n",
      "  example_ES_Las_Palmas_2023_metadata.xml\n",
      "\n",
      "Figures and maps (English)\n",
      "  figures/access_profile_English.jpg\n",
      "  figures/all_cities_walkability_English.jpg\n",
      "  figures/pct_access_500m_pt_English.jpg\n",
      "  figures/pct_access_500m_public_open_space_large_score_English.jpg\n",
      "  figures/local_nh_population_density_English.jpg\n",
      "  figures/local_nh_intersection_density_English.jpg\n",
      "  figures/policy_presence_rating_English.jpg\n",
      "  figures/policy_checklist_rating_English.jpg\n",
      "\n",
      "Report (web PDF template; English)\n",
      "  _web reports/Las Palmas - Healthy and Sustainable City Indicators Report - GHSCIC 2022 - English (DRAFT).pdf\n",
      "\n",
      "Figures and maps (Spanish - Spain)\n",
      "  figures/access_profile_Spanish - Spain.jpg\n",
      "  figures/all_cities_walkability_Spanish - Spain.jpg\n",
      "  figures/pct_access_500m_pt_Spanish - Spain.jpg\n",
      "  figures/pct_access_500m_public_open_space_large_score_Spanish - Spain.jpg\n",
      "  figures/local_nh_population_density_Spanish - Spain.jpg\n",
      "  figures/local_nh_intersection_density_Spanish - Spain.jpg\n",
      "  figures/policy_presence_rating_Spanish - Spain.jpg\n",
      "  figures/policy_checklist_rating_Spanish - Spain.jpg\n",
      "\n",
      "Report (web PDF template; Spanish - Spain)\n",
      "  _web reports/Las Palmas de Gran Canaria - Informe de Indicadores de ciudades saludables y sostenibles - GHSCIC 2022 - Español de España (DRAFT).pdf\n",
      "\n",
      "Figures and maps (Chinese - Simplified)\n",
      "  figures/access_profile_Chinese - Simplified.jpg\n",
      "  figures/all_cities_walkability_Chinese - Simplified.jpg\n",
      "  figures/pct_access_500m_pt_Chinese - Simplified.jpg\n",
      "  figures/pct_access_500m_public_open_space_large_score_Chinese - Simplified.jpg\n",
      "  figures/local_nh_population_density_Chinese - Simplified.jpg\n",
      "  figures/local_nh_intersection_density_Chinese - Simplified.jpg\n",
      "  figures/policy_presence_rating_Chinese - Simplified.jpg\n",
      "  figures/policy_checklist_rating_Chinese - Simplified.jpg\n",
      "\n",
      "Report (web PDF template; Chinese - Simplified)\n",
      "  _web reports/大加那利岛拉斯帕尔马斯 - 健康与可持续城市指标报告 - GHSCIC 2022 - 简体中文 (DRAFT).pdf\n",
      "\n",
      "Analysis report (work in progress...)\n",
      "  figures/study_region_boundary.png\n",
      "  figures/study_region_boundary_urban_shading.png\n",
      "  figures/network_edges.png\n",
      "  figures/population_grid.png\n",
      "  figures/destination_count_Fresh_Food_Market.png\n",
      "  figures/destination_count_Convenience.png\n",
      "  figures/destination_count_Public_transport_stop_any_.png\n",
      "  figures/destination_count_Restaurant.png\n",
      "  figures/destination_count_Cafe.png\n",
      "  figures/destination_count_Food_court.png\n",
      "  figures/destination_count_Fast_food.png\n",
      "  figures/destination_count_Pub.png\n",
      "  figures/destination_count_Bar.png\n",
      "  analysis_report_2023-05-30_1618.pdf\n",
      "\n",
      "\n",
      "It is important to take the time to familiarise yourself with the various\n",
      "outputs generated from the configuration and analysis of your region of interest\n",
      "to ensure they provide a fair and accurate representation given local knowledge.\n",
      "Any issues or limitations identified should be understood and can be iteratively\n",
      "addressed and/or acknowledged in documentation prior to dissemination.\n",
      "\n"
     ]
    }
   ],
   "source": [
    "# generate resources, but suppress display of images in this Jupyter Notebook to reduce filesize\n",
    "%matplotlib agg \n",
    "generate(codename)"
   ]
  },
  {
   "cell_type": "markdown",
   "id": "06bc70cf-d775-46bd-a743-83c22d293379",
   "metadata": {},
   "source": [
    "## Sensitivity analyses\n",
    "\n",
    "To evaluate the impact of your methodological decisions taken when configuring your study region, including selection of data sources, you may conduct sensitivity analyses.  An example has been provided to explore the impact of the decision to restrict to the urban area (`example_ES_Las_Palmas`) or not (`ES_Las_Palmas_2023_test_not_urbanx`).  *A priori*, we would assume that by restricting to an urban area would result in higher estimates for population density and street connectivity, and more proximal access to amenities.\n",
    "\n",
    "Other comparisons are possible.  For example, \n",
    "\n",
    "- one could vary the study region boundary supplied, the parameter used for consolidating intersections, supply additional destination data or modify the definitions used to extract features of interest from the OpenStreetMap data.\n",
    "  - When doing these modifications, the resulting generated datasets can be expected by local experts to evaluate how they conform with their knowledge of the area under study.  \n",
    "- An official reference set of data could be used for example for population, to evaluate the use of a modelled population data layer compared with the official population data.  \n",
    "- Population data for demographic sub-groups could be used (eg. using strata of age and/or sex, or other characteristics as available); the resulting aggregated study region indicators would provide population-specific estimates.\n",
    "- Analyses could be conducted for different time points using historical data\n",
    "- Finally, data could be modified to represent hypothetical interventions and evaluate their impact on the calculated indicators"
   ]
  },
  {
   "cell_type": "code",
   "execution_count": 7,
   "id": "b3bc4bee-1b96-4c43-a906-3c528ecbf926",
   "metadata": {},
   "outputs": [],
   "source": [
    "comparison_codename = 'ES_Las_Palmas_2023_test_not_urbanx'"
   ]
  },
  {
   "cell_type": "code",
   "execution_count": 8,
   "id": "56a5734f-a9f1-47d9-9b51-13d567cf7221",
   "metadata": {},
   "outputs": [
    {
     "name": "stdout",
     "output_type": "stream",
     "text": [
      "\n",
      "Las Palmas de Gran Canaria (ES_Las_Palmas_2023_test_not_urbanx)\n",
      "\n",
      "Output directory:\n",
      "  process/data/_study_region_outputs/ES_Las_Palmas_2023_test_not_urbanx\n",
      "\n",
      "A dated copy of project and region parameters has been saved as process/data/_st\n",
      "udy_region_outputs/ES_Las_Palmas_2023_test_not_urbanx/_parameters.yml.\n",
      "\n",
      "Analysis time zone: Australia/Melbourne (to set time zone for where you are,\n",
      "edit config.yml)\n",
      "\n",
      "Analysis start:\t2023-05-30_1636\n"
     ]
    },
    {
     "data": {
      "application/vnd.jupyter.widget-view+json": {
       "model_id": "e8d819d6cd164b0ebfb42d02c826a0c4",
       "version_major": 2,
       "version_minor": 0
      },
      "text/plain": [
       "                                      0%|                              | (0/13)"
      ]
     },
     "metadata": {},
     "output_type": "display_data"
    },
    {
     "name": "stdout",
     "output_type": "stream",
     "text": [
      "Analysis end:\t2023-05-30_1639 (approximately 2.9 minutes)\n",
      "\n",
      "To generate resources (data files, documentation, maps, figures, reports) using\n",
      "the processed results for this study region, enter:\n",
      "\n",
      "generate ES_Las_Palmas_2023_test_not_urbanx\n",
      "\n",
      "The Postgis SQL database for this city es_las_palmas_2023_test_not_urbanx can\n",
      "also be accessed from QGIS or other applications by specifying the server as\n",
      "'localhost' and port as '5433', with username 'postgres' and password\n",
      "'ghscic'.The SQL database can also be explored on the command line by using the\n",
      "above password after entering,'psql -U postgres -h gateway.docker.internal -p\n",
      "5433 -d \"es_las_palmas_2023_test_not_urbanx\"'. When using psql, you can type\n",
      "'\\dt' to list database tables, '\\d <table_name>' to list table columns, and\n",
      "'SELECT * FROM <table_name> LIMIT 10;' to view the first 10 rows of a table.  To\n",
      "exit psql, enter '\\q'.\n",
      "\n"
     ]
    }
   ],
   "source": [
    "analysis(comparison_codename)"
   ]
  },
  {
   "cell_type": "code",
   "execution_count": null,
   "id": "286b9b60-d6c7-4c63-b9b5-1487c8bddb14",
   "metadata": {},
   "outputs": [
    {
     "name": "stdout",
     "output_type": "stream",
     "text": [
      "\n",
      "Las Palmas de Gran Canaria (ES_Las_Palmas_2023_test_not_urbanx)\n",
      "\n",
      "Output directory:\n",
      "  process/data/_study_region_outputs/ES_Las_Palmas_2023_test_not_urbanx\n",
      "\n",
      "Analysis parameter summary text file\n",
      "  _parameters.yml\n",
      "\n",
      "Analysis log text file\n",
      "  __Las Palmas de Gran Canaria__ES_Las_Palmas_2023_test_not_urbanx_processing_log.txt\n",
      "\n",
      "Data files\n",
      "  ES_Las_Palmas_2023_test_not_urbanx_1600m_buffer.gpkg\n",
      "    - ES_Las_Palmas_2023_test_not_urbanx_region\n",
      "    - ES_Las_Palmas_2023_test_not_urbanx_grid_100m\n",
      "    - ES_Las_Palmas_2023_test_not_urbanx_sample_points\n",
      "    - aos_public_osm\n",
      "    - dest_type\n",
      "    - destinations\n",
      "    - clean_intersections_12m\n",
      "    - edges\n",
      "    - nodes\n",
      "    - pt_stops_headway\n",
      "ES_Las_Palmas_2023_test_not_urbanx_region.csv\n",
      "ES_Las_Palmas_2023_test_not_urbanx_grid_100m.csv\n",
      "\n",
      "Data dictionaries\n",
      "  output_data_dictionary.csv\n",
      "  output_data_dictionary.xlsx\n",
      "\n",
      "Metadata\n",
      "  ES_Las_Palmas_2023_test_not_urbanx_metadata.yml\n",
      "  ES_Las_Palmas_2023_test_not_urbanx_metadata.xml\n",
      "\n",
      "Figures and maps (English)\n",
      "  figures/access_profile_English.jpg\n",
      "  figures/all_cities_walkability_English.jpg\n",
      "  figures/pct_access_500m_pt_English.jpg\n",
      "  figures/pct_access_500m_public_open_space_large_score_English.jpg\n",
      "  figures/local_nh_population_density_English.jpg\n",
      "  figures/local_nh_intersection_density_English.jpg\n",
      "  figures/policy_presence_rating_English.jpg\n",
      "  figures/policy_checklist_rating_English.jpg\n",
      "\n",
      "Report (web PDF template; English)\n",
      "  _web reports/Las Palmas - Healthy and Sustainable City Indicators Report - GHSCIC 2022 - English (DRAFT).pdf\n",
      "\n",
      "Figures and maps (Spanish - Spain)\n",
      "  figures/access_profile_Spanish - Spain.jpg\n",
      "  figures/all_cities_walkability_Spanish - Spain.jpg\n",
      "  figures/pct_access_500m_pt_Spanish - Spain.jpg\n",
      "  figures/pct_access_500m_public_open_space_large_score_Spanish - Spain.jpg\n",
      "  figures/local_nh_population_density_Spanish - Spain.jpg\n",
      "  figures/local_nh_intersection_density_Spanish - Spain.jpg\n",
      "  figures/policy_presence_rating_Spanish - Spain.jpg\n",
      "  figures/policy_checklist_rating_Spanish - Spain.jpg\n",
      "\n",
      "Report (web PDF template; Spanish - Spain)\n",
      "  _web reports/Las Palmas de Gran Canaria - Informe de Indicadores de ciudades saludables y sostenibles - GHSCIC 2022 - Español de España (DRAFT).pdf\n",
      "\n",
      "Figures and maps (Chinese - Simplified)\n",
      "  figures/access_profile_Chinese - Simplified.jpg\n",
      "  figures/all_cities_walkability_Chinese - Simplified.jpg\n",
      "  figures/pct_access_500m_pt_Chinese - Simplified.jpg\n",
      "  figures/pct_access_500m_public_open_space_large_score_Chinese - Simplified.jpg\n",
      "  figures/local_nh_population_density_Chinese - Simplified.jpg\n",
      "  figures/local_nh_intersection_density_Chinese - Simplified.jpg\n",
      "  figures/policy_presence_rating_Chinese - Simplified.jpg\n",
      "  figures/policy_checklist_rating_Chinese - Simplified.jpg\n",
      "\n",
      "Report (web PDF template; Chinese - Simplified)\n",
      "  _web reports/大加那利岛拉斯帕尔马斯 - 健康与可持续城市指标报告 - GHSCIC 2022 - 简体中文 (DRAFT).pdf\n",
      "\n",
      "Analysis report (work in progress...)\n",
      "  figures/study_region_boundary.png\n",
      "  figures/study_region_boundary_urban_shading.png\n",
      "  figures/network_edges.png\n",
      "  figures/population_grid.png\n",
      "  figures/destination_count_Fresh_Food_Market.png\n",
      "  figures/destination_count_Convenience.png\n",
      "  figures/destination_count_Public_transport_stop_any_.png\n"
     ]
    },
    {
     "name": "stderr",
     "output_type": "stream",
     "text": [
      "/home/ghsci/process/subprocesses/_utils.py:1551: RuntimeWarning: More than 20 figures have been opened. Figures created through the pyplot interface (`matplotlib.pyplot.figure`) are retained until explicitly closed and may consume too much memory. (To control this warning, see the rcParam `figure.max_open_warning`). Consider using `matplotlib.pyplot.close()`.\n",
      "  fig = mpl.pyplot.figure()\n"
     ]
    },
    {
     "name": "stdout",
     "output_type": "stream",
     "text": [
      "  figures/destination_count_Restaurant.png\n",
      "  figures/destination_count_Cafe.png\n",
      "  figures/destination_count_Food_court.png\n",
      "  figures/destination_count_Fast_food.png\n",
      "  figures/destination_count_Pub.png\n",
      "  figures/destination_count_Bar.png\n",
      "  analysis_report_2023-05-30_1618.pdf\n",
      "\n",
      "\n",
      "It is important to take the time to familiarise yourself with the various\n",
      "outputs generated from the configuration and analysis of your region of interest\n",
      "to ensure they provide a fair and accurate representation given local knowledge.\n",
      "Any issues or limitations identified should be understood and can be iteratively\n",
      "addressed and/or acknowledged in documentation prior to dissemination.\n",
      "\n"
     ]
    }
   ],
   "source": [
    "# generate resources, but suppress display of images in this Jupyter Notebook to reduce filesize\n",
    "%matplotlib agg\n",
    "generate(comparison_codename)"
   ]
  },
  {
   "cell_type": "markdown",
   "id": "c05c4562-f5fb-459b-8440-0b57fdc36d08",
   "metadata": {},
   "source": [
    "## Comparisons\n",
    "\n",
    "As suggested above, a variety of interesting comparisons can be made using generated indicator data\n",
    "\n",
    "- Sensitivity analyses exploring the impact of methodological choices\n",
    "- Comparisons between different study regions for the same point in time\n",
    "- Comparisons within a city for different points in time\n",
    "- Evaluating the impact of hypothetical scenarios and/or interventions, using modified data\n",
    "\n",
    "Below, we compare the impact of restricting the study region to the urban area"
   ]
  },
  {
   "cell_type": "code",
   "execution_count": null,
   "id": "d57cd8e7-3abd-4ef9-990b-233925dbd758",
   "metadata": {
    "scrolled": true,
    "tags": []
   },
   "outputs": [],
   "source": [
    "compare(codename,comparison_codename)"
   ]
  },
  {
   "cell_type": "markdown",
   "id": "9f5c5eea-6e04-491d-bb6c-a31ebb5235f6",
   "metadata": {},
   "source": [
    "We can see from the above comparison that, as expected, density estimates and the percentage of population with access to most kinds of amenities evaluated were higher with restriction to the empirically defined urban region.  While the most likely explanation is that urban areas are associated with higher population, street connectivity and levels of amenity provision, the possibility of data bias should also be considered and if possible evaluated: data may have more completeness, detail and be more up to date for urban areas.  Hence, restriction to the empirical urban area is an important methodological choice: it could mitigate bias for areas in cases where data is found lacking, however, it could also exclude important sectors of the population living in urban fringe areas that may be of interest and whose inclusion may be important for a more complete understanding of the equitable distribution of healthy and sustainable urban environments.  Decisions such as these need to be made by analysts with local area knowledge or in consulation with local experts to ensure the representation and analysis of the study region in question is fair, meaningful and useful for informing local decision making."
   ]
  }
 ],
 "metadata": {
  "kernelspec": {
   "display_name": "Python 3 (ipykernel)",
   "language": "python",
   "name": "python3"
  },
  "language_info": {
   "codemirror_mode": {
    "name": "ipython",
    "version": 3
   },
   "file_extension": ".py",
   "mimetype": "text/x-python",
   "name": "python",
   "nbconvert_exporter": "python",
   "pygments_lexer": "ipython3",
   "version": "3.10.11"
  }
 },
 "nbformat": 4,
 "nbformat_minor": 5
}
